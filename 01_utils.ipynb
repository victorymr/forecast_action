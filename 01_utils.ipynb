{
 "cells": [
  {
   "cell_type": "code",
   "execution_count": null,
   "metadata": {},
   "outputs": [],
   "source": [
    "# default_exp utils"
   ]
  },
  {
   "cell_type": "markdown",
   "metadata": {},
   "source": [
    "# fcst_campaign utils module\n",
    "\n",
    "> Some generic tools"
   ]
  },
  {
   "cell_type": "code",
   "execution_count": null,
   "metadata": {},
   "outputs": [],
   "source": [
    "%load_ext autoreload\n",
    "%autoreload 2"
   ]
  },
  {
   "cell_type": "code",
   "execution_count": null,
   "metadata": {},
   "outputs": [
    {
     "name": "stdout",
     "output_type": "stream",
     "text": [
      "Collecting git+https://github.com/pete88b/nbdev_colab_helper.git\n",
      "  Cloning https://github.com/pete88b/nbdev_colab_helper.git to /tmp/pip-req-build-38eit630\n",
      "  Running command git clone --filter=blob:none --quiet https://github.com/pete88b/nbdev_colab_helper.git /tmp/pip-req-build-38eit630\n",
      "  Resolved https://github.com/pete88b/nbdev_colab_helper.git to commit 15cf67b6ca0c125a636cedc017f285a04771bbff\n",
      "  Preparing metadata (setup.py) ... \u001b[?25l\u001b[?25hdone\n",
      "Building wheels for collected packages: nbdev-colab-helper\n",
      "  Building wheel for nbdev-colab-helper (setup.py) ... \u001b[?25l\u001b[?25hdone\n",
      "  Created wheel for nbdev-colab-helper: filename=nbdev_colab_helper-0.0.1-py3-none-any.whl size=9679 sha256=83f342c034baedf828bf009aba857a57ff470f507bbbe8a297e1b91638d23ad0\n",
      "  Stored in directory: /tmp/pip-ephem-wheel-cache-srf4vk1b/wheels/0c/50/90/0c073bb88ab36268043083b5ee7bc3a8b39c1a423c3c3736b7\n",
      "Successfully built nbdev-colab-helper\n",
      "Installing collected packages: nbdev-colab-helper\n",
      "Successfully installed nbdev-colab-helper-0.0.1\n",
      "Connecting to google drive\n",
      "Mounted at /content/drive\n",
      "/content/drive/My Drive/Colab Notebooks/github/forecast_action\n",
      "pip install fastscript==1.0.0 fastcore==1.0.8 nbdev==1.0.14\n",
      "   Collecting fastscript==1.0.0\n",
      "  Downloading fastscript-1.0.0-py3-none-any.whl (11 kB)\n",
      "Collecting fastcore==1.0.8\n",
      "  Downloading fastcore-1.0.8-py3-none-any.whl (37 kB)\n",
      "Collecting nbdev==1.0.14\n",
      "  Downloading nbdev-1.0.14-py3-none-any.whl (57 kB)\n",
      "     ━━━━━━━━━━━━━━━━━━━━━━━━━━━━━━━━━━━━━━━━ 57.1/57.1 kB 5.7 MB/s eta 0:00:00\n",
      "Requirement already satisfied: pip in /usr/local/lib/python3.10/dist-packages (from fastscript==1.0.0) (23.1.2)\n",
      "Requirement already satisfied: packaging in /usr/local/lib/python3.10/dist-packages (from fastscript==1.0.0) (23.2)\n",
      "Requirement already satisfied: nbformat>=4.4.0 in /usr/local/lib/python3.10/dist-packages (from nbdev==1.0.14) (5.9.2)\n",
      "Requirement already satisfied: nbconvert>=5.6.1 in /usr/local/lib/python3.10/dist-packages (from nbdev==1.0.14) (6.5.4)\n",
      "Requirement already satisfied: pyyaml in /usr/local/lib/python3.10/dist-packages (from nbdev==1.0.14) (6.0.1)\n",
      "Requirement already satisfied: jupyter-client in /usr/local/lib/python3.10/dist-packages (from nbdev==1.0.14) (6.1.12)\n",
      "Requirement already satisfied: ipykernel in /usr/local/lib/python3.10/dist-packages (from nbdev==1.0.14) (5.5.6)\n",
      "Requirement already satisfied: lxml in /usr/local/lib/python3.10/dist-packages (from nbconvert>=5.6.1->nbdev==1.0.14) (4.9.4)\n",
      "Requirement already satisfied: beautifulsoup4 in /usr/local/lib/python3.10/dist-packages (from nbconvert>=5.6.1->nbdev==1.0.14) (4.12.3)\n",
      "Requirement already satisfied: bleach in /usr/local/lib/python3.10/dist-packages (from nbconvert>=5.6.1->nbdev==1.0.14) (6.1.0)\n",
      "Requirement already satisfied: defusedxml in /usr/local/lib/python3.10/dist-packages (from nbconvert>=5.6.1->nbdev==1.0.14) (0.7.1)\n",
      "Requirement already satisfied: entrypoints>=0.2.2 in /usr/local/lib/python3.10/dist-packages (from nbconvert>=5.6.1->nbdev==1.0.14) (0.4)\n",
      "Requirement already satisfied: jinja2>=3.0 in /usr/local/lib/python3.10/dist-packages (from nbconvert>=5.6.1->nbdev==1.0.14) (3.1.3)\n",
      "Requirement already satisfied: jupyter-core>=4.7 in /usr/local/lib/python3.10/dist-packages (from nbconvert>=5.6.1->nbdev==1.0.14) (5.7.1)\n",
      "Requirement already satisfied: jupyterlab-pygments in /usr/local/lib/python3.10/dist-packages (from nbconvert>=5.6.1->nbdev==1.0.14) (0.3.0)\n",
      "Requirement already satisfied: MarkupSafe>=2.0 in /usr/local/lib/python3.10/dist-packages (from nbconvert>=5.6.1->nbdev==1.0.14) (2.1.5)\n",
      "Requirement already satisfied: mistune<2,>=0.8.1 in /usr/local/lib/python3.10/dist-packages (from nbconvert>=5.6.1->nbdev==1.0.14) (0.8.4)\n",
      "Requirement already satisfied: nbclient>=0.5.0 in /usr/local/lib/python3.10/dist-packages (from nbconvert>=5.6.1->nbdev==1.0.14) (0.9.0)\n",
      "Requirement already satisfied: pandocfilters>=1.4.1 in /usr/local/lib/python3.10/dist-packages (from nbconvert>=5.6.1->nbdev==1.0.14) (1.5.1)\n",
      "Requirement already satisfied: pygments>=2.4.1 in /usr/local/lib/python3.10/dist-packages (from nbconvert>=5.6.1->nbdev==1.0.14) (2.16.1)\n",
      "Requirement already satisfied: tinycss2 in /usr/local/lib/python3.10/dist-packages (from nbconvert>=5.6.1->nbdev==1.0.14) (1.2.1)\n",
      "Requirement already satisfied: traitlets>=5.0 in /usr/local/lib/python3.10/dist-packages (from nbconvert>=5.6.1->nbdev==1.0.14) (5.7.1)\n",
      "Requirement already satisfied: fastjsonschema in /usr/local/lib/python3.10/dist-packages (from nbformat>=4.4.0->nbdev==1.0.14) (2.19.1)\n",
      "Requirement already satisfied: jsonschema>=2.6 in /usr/local/lib/python3.10/dist-packages (from nbformat>=4.4.0->nbdev==1.0.14) (4.19.2)\n",
      "Requirement already satisfied: ipython-genutils in /usr/local/lib/python3.10/dist-packages (from ipykernel->nbdev==1.0.14) (0.2.0)\n",
      "Requirement already satisfied: ipython>=5.0.0 in /usr/local/lib/python3.10/dist-packages (from ipykernel->nbdev==1.0.14) (7.34.0)\n",
      "Requirement already satisfied: tornado>=4.2 in /usr/local/lib/python3.10/dist-packages (from ipykernel->nbdev==1.0.14) (6.3.3)\n",
      "Requirement already satisfied: pyzmq>=13 in /usr/local/lib/python3.10/dist-packages (from jupyter-client->nbdev==1.0.14) (23.2.1)\n",
      "Requirement already satisfied: python-dateutil>=2.1 in /usr/local/lib/python3.10/dist-packages (from jupyter-client->nbdev==1.0.14) (2.8.2)\n",
      "Requirement already satisfied: setuptools>=18.5 in /usr/local/lib/python3.10/dist-packages (from ipython>=5.0.0->ipykernel->nbdev==1.0.14) (67.7.2)\n",
      "Collecting jedi>=0.16 (from ipython>=5.0.0->ipykernel->nbdev==1.0.14)\n",
      "  Downloading jedi-0.19.1-py2.py3-none-any.whl (1.6 MB)\n",
      "     ━━━━━━━━━━━━━━━━━━━━━━━━━━━━━━━━━━━━━━━━ 1.6/1.6 MB 38.3 MB/s eta 0:00:00\n",
      "Requirement already satisfied: decorator in /usr/local/lib/python3.10/dist-packages (from ipython>=5.0.0->ipykernel->nbdev==1.0.14) (4.4.2)\n",
      "Requirement already satisfied: pickleshare in /usr/local/lib/python3.10/dist-packages (from ipython>=5.0.0->ipykernel->nbdev==1.0.14) (0.7.5)\n",
      "Requirement already satisfied: prompt-toolkit!=3.0.0,!=3.0.1,<3.1.0,>=2.0.0 in /usr/local/lib/python3.10/dist-packages (from ipython>=5.0.0->ipykernel->nbdev==1.0.14) (3.0.43)\n",
      "Requirement already satisfied: backcall in /usr/local/lib/python3.10/dist-packages (from ipython>=5.0.0->ipykernel->nbdev==1.0.14) (0.2.0)\n",
      "Requirement already satisfied: matplotlib-inline in /usr/local/lib/python3.10/dist-packages (from ipython>=5.0.0->ipykernel->nbdev==1.0.14) (0.1.6)\n",
      "Requirement already satisfied: pexpect>4.3 in /usr/local/lib/python3.10/dist-packages (from ipython>=5.0.0->ipykernel->nbdev==1.0.14) (4.9.0)\n",
      "Requirement already satisfied: attrs>=22.2.0 in /usr/local/lib/python3.10/dist-packages (from jsonschema>=2.6->nbformat>=4.4.0->nbdev==1.0.14) (23.2.0)\n",
      "Requirement already satisfied: jsonschema-specifications>=2023.03.6 in /usr/local/lib/python3.10/dist-packages (from jsonschema>=2.6->nbformat>=4.4.0->nbdev==1.0.14) (2023.12.1)\n",
      "Requirement already satisfied: referencing>=0.28.4 in /usr/local/lib/python3.10/dist-packages (from jsonschema>=2.6->nbformat>=4.4.0->nbdev==1.0.14) (0.33.0)\n",
      "Requirement already satisfied: rpds-py>=0.7.1 in /usr/local/lib/python3.10/dist-packages (from jsonschema>=2.6->nbformat>=4.4.0->nbdev==1.0.14) (0.18.0)\n",
      "Requirement already satisfied: platformdirs>=2.5 in /usr/local/lib/python3.10/dist-packages (from jupyter-core>=4.7->nbconvert>=5.6.1->nbdev==1.0.14) (4.2.0)\n",
      "Requirement already satisfied: six>=1.5 in /usr/local/lib/python3.10/dist-packages (from python-dateutil>=2.1->jupyter-client->nbdev==1.0.14) (1.16.0)\n",
      "Requirement already satisfied: soupsieve>1.2 in /usr/local/lib/python3.10/dist-packages (from beautifulsoup4->nbconvert>=5.6.1->nbdev==1.0.14) (2.5)\n",
      "Requirement already satisfied: webencodings in /usr/local/lib/python3.10/dist-packages (from bleach->nbconvert>=5.6.1->nbdev==1.0.14) (0.5.1)\n",
      "Requirement already satisfied: parso<0.9.0,>=0.8.3 in /usr/local/lib/python3.10/dist-packages (from jedi>=0.16->ipython>=5.0.0->ipykernel->nbdev==1.0.14) (0.8.3)\n",
      "Requirement already satisfied: ptyprocess>=0.5 in /usr/local/lib/python3.10/dist-packages (from pexpect>4.3->ipython>=5.0.0->ipykernel->nbdev==1.0.14) (0.7.0)\n",
      "Requirement already satisfied: wcwidth in /usr/local/lib/python3.10/dist-packages (from prompt-toolkit!=3.0.0,!=3.0.1,<3.1.0,>=2.0.0->ipython>=5.0.0->ipykernel->nbdev==1.0.14) (0.2.13)\n",
      "Installing collected packages: jedi, fastscript, fastcore, nbdev\n",
      "  Attempting uninstall: fastcore\n",
      "    Found existing installation: fastcore 1.5.29\n",
      "    Uninstalling fastcore-1.5.29:\n",
      "      Successfully uninstalled fastcore-1.5.29\n",
      "Successfully installed fastcore-1.0.8 fastscript-1.0.0 jedi-0.19.1 nbdev-1.0.14 \n",
      "/content/drive/My Drive/Colab Notebooks/github/forecast_action\n"
     ]
    }
   ],
   "source": [
    "IN_COLAB = 'google.colab' in str(get_ipython())\n",
    "if IN_COLAB:\n",
    "  !pip install git+https://github.com/pete88b/nbdev_colab_helper.git\n",
    "  from nbdev_colab_helper.core import *\n",
    "  project_name = 'forecast_action'\n",
    "  init_notebook(project_name)"
   ]
  },
  {
   "cell_type": "code",
   "execution_count": null,
   "metadata": {},
   "outputs": [
    {
     "name": "stdout",
     "output_type": "stream",
     "text": [
      "Collecting timezonefinder\n",
      "  Downloading timezonefinder-6.4.1.tar.gz (49.0 MB)\n",
      "\u001b[2K     \u001b[90m━━━━━━━━━━━━━━━━━━━━━━━━━━━━━━━━━━━━━━━━\u001b[0m \u001b[32m49.0/49.0 MB\u001b[0m \u001b[31m10.0 MB/s\u001b[0m eta \u001b[36m0:00:00\u001b[0m\n",
      "\u001b[?25h  Installing build dependencies ... \u001b[?25l\u001b[?25hdone\n",
      "  Getting requirements to build wheel ... \u001b[?25l\u001b[?25hdone\n",
      "  Preparing metadata (pyproject.toml) ... \u001b[?25l\u001b[?25hdone\n",
      "Requirement already satisfied: cffi<2,>=1.15.1 in /usr/local/lib/python3.10/dist-packages (from timezonefinder) (1.16.0)\n",
      "Collecting h3<4,>=3.7.6 (from timezonefinder)\n",
      "  Downloading h3-3.7.6-cp310-cp310-manylinux_2_17_x86_64.manylinux2014_x86_64.whl (1.1 MB)\n",
      "\u001b[2K     \u001b[90m━━━━━━━━━━━━━━━━━━━━━━━━━━━━━━━━━━━━━━━━\u001b[0m \u001b[32m1.1/1.1 MB\u001b[0m \u001b[31m44.6 MB/s\u001b[0m eta \u001b[36m0:00:00\u001b[0m\n",
      "\u001b[?25hRequirement already satisfied: numpy<2,>=1.25 in /usr/local/lib/python3.10/dist-packages (from timezonefinder) (1.25.2)\n",
      "Requirement already satisfied: setuptools>=65.5 in /usr/local/lib/python3.10/dist-packages (from timezonefinder) (67.7.2)\n",
      "Requirement already satisfied: pycparser in /usr/local/lib/python3.10/dist-packages (from cffi<2,>=1.15.1->timezonefinder) (2.21)\n",
      "Building wheels for collected packages: timezonefinder\n",
      "  Building wheel for timezonefinder (pyproject.toml) ... \u001b[?25l\u001b[?25hdone\n",
      "  Created wheel for timezonefinder: filename=timezonefinder-6.4.1-cp310-cp310-manylinux_2_35_x86_64.whl size=49040891 sha256=a43f7e7ad38098d576217177bc26b0740cdb55f26a1d8cb5b292529192fa4fa1\n",
      "  Stored in directory: /root/.cache/pip/wheels/52/8f/5f/8ace889092b27a1c13b9fa7582d5763f417c29b9d23388415d\n",
      "Successfully built timezonefinder\n",
      "Installing collected packages: h3, timezonefinder\n",
      "Successfully installed h3-3.7.6 timezonefinder-6.4.1\n"
     ]
    }
   ],
   "source": [
    "#hide\n",
    "from nbdev.showdoc import *\n",
    "\n",
    "if IN_COLAB:\n",
    "  !pip install timezonefinder\n",
    "\n"
   ]
  },
  {
   "cell_type": "code",
   "execution_count": null,
   "metadata": {},
   "outputs": [],
   "source": [
    "# export\n",
    "import pytz\n",
    "from datetime import datetime\n",
    "from timezonefinder import TimezoneFinder"
   ]
  },
  {
   "cell_type": "code",
   "execution_count": null,
   "metadata": {},
   "outputs": [],
   "source": [
    "# export\n",
    "def get_state_capitals(geo_entry):\n",
    "    # Maps of country to a list of its state capitals\n",
    "    capitals = {\n",
    "        \"USA\": [\"Washington, D.C.\", \"Austin, TX\", \"Sacramento, CA\", \"New York, NY\", \"Chicago, IL\", \"Denver, CO\", \"Kanas City, MO\"],\n",
    "        \"India\": [\"New Delhi\", \"Mumbai\", \"Kolkata\", \"Chennai\", \"Hyderabad\", \"Pune\"]\n",
    "    }\n",
    "\n",
    "    # Check if the geo_entry is a recognized country and return its capitals\n",
    "    if geo_entry in capitals:\n",
    "        return capitals[geo_entry]\n",
    "    else:\n",
    "        # Return an empty list or a meaningful message if no data is available\n",
    "        return []\n",
    "\n",
    "from geopy.geocoders import Nominatim\n",
    "from geopy.extra.rate_limiter import RateLimiter\n",
    "import time"
   ]
  },
  {
   "cell_type": "code",
   "execution_count": null,
   "metadata": {},
   "outputs": [],
   "source": [
    "# export\n",
    "def get_lat_lon(geo_input):\n",
    "    \"\"\"\n",
    "    Convert a geographical input (city, state, or country) into a list of latitude-longitude pairs.\n",
    "    \"\"\"\n",
    "    geolocator = Nominatim(user_agent=\"forecastcampaignad/vjsoc77@gmail.com\",timeout=10)\n",
    "    # Use RateLimiter to avoid hitting usage limits\n",
    "    geocode = RateLimiter(geolocator.geocode, min_delay_seconds=1)\n",
    "\n",
    "    lat_lon_list = []\n",
    "\n",
    "    # Example of handling different types of geographical inputs\n",
    "    if isinstance(geo_input, str):  # Single city, state, or country\n",
    "        location = geolocator.geocode(geo_input)\n",
    "        if location:\n",
    "            lat_lon_list.append((location.latitude, location.longitude))\n",
    "    elif isinstance(geo_input, list):  # List of cities\n",
    "        for item in geo_input:\n",
    "            location = geolocator.geocode(item)\n",
    "            if location:\n",
    "                lat_lon_list.append((location.latitude, location.longitude))\n",
    "            time.sleep(1)\n",
    "\n",
    "    return lat_lon_list"
   ]
  },
  {
   "cell_type": "code",
   "execution_count": null,
   "metadata": {},
   "outputs": [],
   "source": [
    "# export\n",
    "def create_geo_query_list(company_df, company_name):\n",
    "    \"\"\"\n",
    "    For a given company, generate a list of latitude-longitude pairs based on its 'Geo' field.\n",
    "    \"\"\"\n",
    "    # Find the 'Geo' entry for the company\n",
    "    geo_entry = company_df[company_df['Company'] == company_name]['Geo'].iloc[0]\n",
    "    print(geo_entry)\n",
    "\n",
    "    country_names = ['USA', 'India']\n",
    "    ## Get a list of cities\n",
    "    if geo_entry in country_names:\n",
    "      city_names = get_state_capitals(geo_entry)\n",
    "    else:\n",
    "      city_names = [geo_entry]\n",
    "\n",
    "    # Handling different Geo formats (e.g., city, state, country)\n",
    "    # This is a placeholder; implementation depends on your data and needs\n",
    "    lat_lon_list = get_lat_lon(city_names)\n",
    "\n",
    "    return lat_lon_list, city_names"
   ]
  },
  {
   "cell_type": "code",
   "execution_count": null,
   "metadata": {},
   "outputs": [
    {
     "name": "stdout",
     "output_type": "stream",
     "text": [
      "Rounded Coordinates for Chicago: Latitude 42.0, Longitude -87.75\n"
     ]
    }
   ],
   "source": [
    "# export\n",
    "def round_to_grid(lat, lon, resolution=0.25):\n",
    "    \"\"\"Round latitude and longitude to the nearest grid resolution.\"\"\"\n",
    "    rounded_lat = round(lat / resolution) * resolution\n",
    "    rounded_lon = round(lon / resolution) * resolution\n",
    "    return rounded_lat, rounded_lon\n",
    "\n",
    "# Example: Rounding the coordinates for Chicago\n",
    "chicago_lat, chicago_lon = 41.8781, -87.6298\n",
    "rounded_lat, rounded_lon = round_to_grid(chicago_lat, chicago_lon)\n",
    "\n",
    "print(f\"Rounded Coordinates for Chicago: Latitude {rounded_lat}, Longitude {rounded_lon}\")"
   ]
  },
  {
   "cell_type": "code",
   "execution_count": null,
   "metadata": {},
   "outputs": [
    {
     "name": "stdout",
     "output_type": "stream",
     "text": [
      "{'lat_lon': (40.7128, -74.006), 'time_zone': 'America/New_York', 'local_peak_start': '2024-03-07 05:00:00', 'local_peak_end': '2024-03-07 12:00:00'}\n",
      "{'lat_lon': (28.6139, 77.209), 'time_zone': 'Asia/Kolkata', 'local_peak_start': '2024-03-07 15:30:00', 'local_peak_end': '2024-03-07 22:30:00'}\n"
     ]
    }
   ],
   "source": [
    "# export\n",
    "def get_local_peak_hours(lat_lons):\n",
    "    tf = TimezoneFinder()\n",
    "    peak_hours_info = []\n",
    "\n",
    "    for lat, lon in lat_lons:\n",
    "        # Find the time zone for the given lat-lon\n",
    "        tz_str = tf.timezone_at(lat=lat, lng=lon)\n",
    "        tz = pytz.timezone(tz_str)\n",
    "\n",
    "        # Define peak hours in UTC\n",
    "        utc_peak_start = datetime.utcnow().replace(hour=10, minute=0, second=0, microsecond=0)\n",
    "        utc_peak_end = datetime.utcnow().replace(hour=17, minute=0, second=0, microsecond=0)\n",
    "\n",
    "        # Convert peak hours to local time\n",
    "        local_peak_start = utc_peak_start.astimezone(tz)\n",
    "        local_peak_end = utc_peak_end.astimezone(tz)\n",
    "\n",
    "        peak_hours_info.append({\n",
    "            \"lat_lon\": (lat, lon),\n",
    "            \"time_zone\": tz_str,\n",
    "            \"local_peak_start\": local_peak_start.strftime(\"%Y-%m-%d %H:%M:%S\"),\n",
    "            \"local_peak_end\": local_peak_end.strftime(\"%Y-%m-%d %H:%M:%S\"),\n",
    "        })\n",
    "\n",
    "    return peak_hours_info\n",
    "\n",
    "# Example usage\n",
    "lat_lons = [(40.7128, -74.0060), (28.6139, 77.2090)]  # New York, New Delhi\n",
    "peak_hours = get_local_peak_hours(lat_lons)\n",
    "for info in peak_hours:\n",
    "    print(info)\n"
   ]
  },
  {
   "cell_type": "code",
   "execution_count": null,
   "metadata": {},
   "outputs": [
    {
     "name": "stdout",
     "output_type": "stream",
     "text": [
      "Timezone offset for latitude 40.7128, longitude -74.006 is -5.0 hours.\n"
     ]
    }
   ],
   "source": [
    "# export\n",
    "def get_timezone_offset(lat, lon, date=datetime.now()):\n",
    "    \"\"\"\n",
    "    Returns the timezone offset in hours for a given latitude, longitude, and date.\n",
    "\n",
    "    :param lat: Latitude of the location\n",
    "    :param lon: Longitude of the location\n",
    "    :param date: Date for which to find the timezone offset, default is current date\n",
    "    :return: Timezone offset in hours from UTC\n",
    "    \"\"\"\n",
    "    tf = TimezoneFinder()\n",
    "    timezone_str = tf.timezone_at(lat=lat, lng=lon)  # Find the timezone name\n",
    "    if timezone_str is None:\n",
    "        return None  # Could not determine the timezone\n",
    "    timezone = pytz.timezone(timezone_str)\n",
    "\n",
    "    # Calculate offset in hours, considering daylight saving time\n",
    "    offset = timezone.utcoffset(date)\n",
    "    offset_hours = offset.total_seconds() / 3600\n",
    "    return offset_hours\n",
    "\n",
    "# Example usage\n",
    "lat, lon = 40.7128, -74.0060  # New York City\n",
    "offset_hours = get_timezone_offset(lat, lon)\n",
    "print(f\"Timezone offset for latitude {lat}, longitude {lon} is {offset_hours} hours.\")"
   ]
  },
  {
   "cell_type": "code",
   "execution_count": null,
   "metadata": {},
   "outputs": [],
   "source": [
    "# export\n",
    "def calculate_search_radius(city_lat):\n",
    "    # Constants\n",
    "    km_per_degree_latitude = 111  # Approximate km covered by one degree of latitude\n",
    "    longitude_difference = 0.25  # Grid cell size in degrees (longitude)\n",
    "\n",
    "    # Calculating the East-West length of the grid cell at the given latitude\n",
    "    E_W_length_km = km_per_degree_latitude * math.cos(math.radians(city_lat)) * longitude_difference\n",
    "\n",
    "    # Calculating the radius as half the E-W length\n",
    "    radius_km = E_W_length_km / 2\n",
    "    return radius_km"
   ]
  },
  {
   "cell_type": "code",
   "execution_count": null,
   "metadata": {},
   "outputs": [
    {
     "name": "stdout",
     "output_type": "stream",
     "text": [
      "Converted 00_core.ipynb.\n",
      "Converted 01_utils.ipynb.\n",
      "Converted index.ipynb.\n"
     ]
    }
   ],
   "source": [
    "from nbdev.export import notebook2script\n",
    "notebook2script()"
   ]
  },
  {
   "cell_type": "code",
   "execution_count": null,
   "metadata": {},
   "outputs": [],
   "source": []
  }
 ],
 "metadata": {
  "kernelspec": {
   "display_name": "Python 3",
   "name": "python3"
  }
 },
 "nbformat": 4,
 "nbformat_minor": 0
}
